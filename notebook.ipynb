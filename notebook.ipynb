{
 "cells": [
  {
   "cell_type": "markdown",
   "id": "e499404a",
   "metadata": {},
   "source": [
    "<div style=\"text-align: center\">\n",
    "\n",
    "# **National Higher School of Mathematics**  \n",
    "### **Algeria, Algiers - Sidi Abdellah**  \n",
    "\n",
    "# ⎯⎯⎯⎯⎯⎯⎯⎯⎯⎯⎯⎯⎯⎯⎯⎯⎯⎯⎯  \n",
    "\n",
    "### **Module:** Information Theory & Error Correcting Codes  \n",
    "### **Student:** Marouf Haider  \n",
    "### **Date:** `May 12, 2025`  \n",
    "### **Topic:** Huffman Coding/Decoding \n",
    "\n",
    "# ⎯⎯⎯⎯⎯⎯⎯⎯⎯⎯⎯⎯⎯⎯⎯⎯⎯⎯⎯  \n",
    "\n",
    "</div>"
   ]
  },
  {
   "cell_type": "markdown",
   "id": "9a27f10a",
   "metadata": {},
   "source": [
    "## Table of Contents\n",
    "1. [Introduction](#Introduction)  \n",
    "2. [Frequency Analysis](#Frequency-analysis)  \n",
    "3. [Tree Construction](#Tree-construction)  \n",
    "4. [Code Assignment](#Code-assignment)  \n",
    "5. [Compression Pipeline](#Compression-pipeline)  \n",
    "6. [Decompression & Validation](#Decompression-validation)  \n",
    "7. [GUI](#Graphical-User-Interface)  \n",
    "8. [References](#References)\n"
   ]
  },
  {
   "cell_type": "markdown",
   "id": "2a829b12",
   "metadata": {},
   "source": [
    "# **Introduction**\n",
    "\n",
    "Huffman coding is a fundamental **lossless compression** technique that efficiently encodes data by assigning shorter binary codes to frequently occurring symbols and longer codes to rarer symbols. Developed by **David A. Huffman** in 1952, this algorithm forms the backbone of many compression standards, reducing storage space and transmission costs.\n",
    "\n",
    "### **How It Works**\n",
    "1. **Frequency Analysis**: Each symbol's occurrence is measured.\n",
    "2. **Binary Tree Construction**: A **priority queue** is used to build a binary tree based on symbol frequency.\n",
    "3. **Optimal Code Generation**: Traversing the tree produces unique, **prefix-free** binary representations.\n",
    "4. **Encoding & Decoding**: Text is converted into compact binary form, ensuring fast and accurate recovery.\n",
    "\n",
    "### **Why Huffman Coding?**\n",
    "- **Efficient Compression**: Minimizes average code length.\n",
    "- **Prefix Property**: No code is a prefix of another, ensuring unique decoding.\n",
    "- **Widely Used**: Implemented in formats like JPEG, MP3, and ZIP.\n",
    "\n",
    "This notebook will explore Huffman coding step by step, resulting in a functional implementation. > ⚠️ This implementation is educational and may contain unintentional errors.
> If you encounter issues, feel free to reach out at **ensmmarouf@gmail.com**"
   ]
  },
  {
   "cell_type": "code",
   "execution_count": null,
   "id": "37dd0891",
   "metadata": {},
   "outputs": [],
   "source": [
    "from collections import Counter\n",
    "import json"
   ]
  },
  {
   "cell_type": "code",
   "execution_count": null,
   "id": "2599423f",
   "metadata": {},
   "outputs": [],
   "source": [
    "class Node:\n",
    "    def __init__(self, symbol = None, frequency = 0, children = None ):\n",
    "        self.symbol    = symbol           # This node either represents a symbol or merged symbols\n",
    "        self.frequency = frequency        # The symbol frequency or cummulated frequency of merged symbols\n",
    "        self.children  = children or []   # Each node can have either 0 or q children\n",
    "        \n",
    "    \n",
    "    def __repr__(self):    # A method to display node info\n",
    "        return f'{self.symbol}({self.frequency})'       \n",
    "          \n",
    "    def __add__(self, other): # A method to add (merge) two nodes\n",
    "        return Node(symbol = None, frequency = self.frequency + other.frequency, children = [self ,other])\n",
    "    \n",
    "    def __radd__(self, other):\n",
    "        return self.__add__(other)\n",
    "    "
   ]
  },
  {
   "cell_type": "markdown",
   "id": "7148f292",
   "metadata": {},
   "source": [
    "# **Frequency-analysis**"
   ]
  },
  {
   "cell_type": "code",
   "execution_count": null,
   "id": "f3df491d",
   "metadata": {},
   "outputs": [],
   "source": [
    "def frequency_map(file_path): # Takes a file (text, image, binary) returns a character/frequency map \n",
    "    \"\"\"\n",
    "    Read file in binary mode and return its byte content and a frequency map {byte: count}.\n",
    "    \"\"\"\n",
    "    try:\n",
    "        with open(file_path, 'rb') as file:\n",
    "            istream = file.read()\n",
    "    except FileNotFoundError:\n",
    "        print(f\"Error: File '{file_path}' not found.\")\n",
    "        return None, None\n",
    "    except IOError:\n",
    "        print(f\"Error: Unable to read '{file_path}'.\")\n",
    "        return None, None\n",
    "    \n",
    "    #frequency_map =  {byte: istream.count(byte) for byte in set(istream)}  \n",
    "    frequency_map = Counter(istream)\n",
    "    \n",
    "    return istream,frequency_map"
   ]
  },
  {
   "cell_type": "markdown",
   "id": "fe9bdb59",
   "metadata": {},
   "source": [
    "> **Note:** Efficiency Consideration: Instead of calling .count(byte) for frequency mapping, we consider using collections.Counter for better performance on large files."
   ]
  },
  {
   "cell_type": "code",
   "execution_count": null,
   "id": "6a031bcd",
   "metadata": {},
   "outputs": [],
   "source": [
    "def add_paddings(frequency_map, q): \n",
    "    \"\"\"\n",
    "    Ensure that (N - 1) mod (q - 1) == 0 by adding dummy symbols with zero frequency.\n",
    "    \"\"\"\n",
    "    N = len(frequency_map.values())\n",
    "    if (N-1)%(q-1) == 0:\n",
    "        return frequency_map\n",
    "    else:\n",
    "        n = ((q-1)-(N-1)) %(q-1)\n",
    "        frequency_map.update({f'dum':0 for i in range(n)}) # We add weightless dummy symbols if needded\n",
    "        \n",
    "        frequency_map = dict(sorted(frequency_map.items(), key=lambda item: item[1]))\n",
    "        \n",
    "        return frequency_map"
   ]
  },
  {
   "cell_type": "markdown",
   "id": "853d1b7b",
   "metadata": {},
   "source": [
    "## Create a queue of nodes"
   ]
  },
  {
   "cell_type": "code",
   "execution_count": null,
   "id": "7a09a80b",
   "metadata": {},
   "outputs": [],
   "source": [
    "def nodes_queue(frequency_map):\n",
    "    \"\"\"\n",
    "    Convert frequency map into a sorted queue of Node objects.\n",
    "    \"\"\"\n",
    "    nodes_queue = []\n",
    "    for symbol in frequency_map:\n",
    "        nodes_queue.append(Node(symbol = symbol, frequency=frequency_map[symbol]))\n",
    "    return nodes_queue"
   ]
  },
  {
   "cell_type": "markdown",
   "id": "2758400a",
   "metadata": {},
   "source": [
    "# **Tree-construction**"
   ]
  },
  {
   "cell_type": "code",
   "execution_count": null,
   "id": "cb023148",
   "metadata": {},
   "outputs": [],
   "source": [
    "def Huffman_tree(nodes_queue, q):  \n",
    "    \"\"\"\n",
    "    Build a q-ary Huffman tree by repeatedly merging the q least frequent nodes.\n",
    "    Returns the root Node.\n",
    "    \"\"\"\n",
    "    \"\"\"\n",
    "     The following steps are repeated until we are left with only one node, that is the root of the tree.\n",
    "    \"\"\"\n",
    "    while len(nodes_queue) > 1 : \n",
    "        \n",
    "        # We retrieve the 1st q nodes (with the least frequency) of the queue\n",
    "        first_q_nodes = nodes_queue[:q]\n",
    "        # Merge the retrieved nodes into a single node labled with the sum of frequencies\n",
    "        Merged_node = sum(first_q_nodes,Node())\n",
    "        # Drop the first q nodes\n",
    "        nodes_queue = nodes_queue[q:] \n",
    "        # Next, we insert the merged node into the 'queue'\n",
    "        nodes_queue.append(Merged_node)\n",
    "        # We re-arrange the list in ascending order of frequencies\n",
    "        nodes_queue.sort(key=lambda x: x.frequency)\n",
    "                           \n",
    "    return  nodes_queue[0] # It returns the root of the tree, which is a node containing all symbols\n",
    "                           "
   ]
  },
  {
   "cell_type": "markdown",
   "id": "5b896366",
   "metadata": {},
   "source": [
    "# **Code-assignment**"
   ]
  },
  {
   "cell_type": "code",
   "execution_count": null,
   "id": "f00a0fed",
   "metadata": {},
   "outputs": [],
   "source": [
    "def assign_codes(node, prefix=\"\", code_map = None ): \n",
    "    \"\"\"\n",
    "    Traverse the tree to assign codes: leaf symbols get the accumulated prefix.\n",
    "    \"\"\"\n",
    "    # Given a node we explore and label if possible all its children, otherwise, we have reached a leaf.\n",
    "    if code_map is None:\n",
    "        code_map = {}\n",
    "    if node.symbol: # If the node is a leaf, we associate it with the current sequence.\n",
    "        code_map[node.symbol] = prefix\n",
    "    else:\n",
    "        for idx, child in enumerate(node.children): # Otherwise, we label the children and explore each of them.\n",
    "            assign_codes(child, prefix + str(idx), code_map = code_map)\n",
    "    return code_map        "
   ]
  },
  {
   "cell_type": "markdown",
   "id": "a8318cf9",
   "metadata": {},
   "source": [
    "## Extra function"
   ]
  },
  {
   "cell_type": "code",
   "execution_count": null,
   "id": "91a08e3b",
   "metadata": {},
   "outputs": [],
   "source": [
    "def pack_bits(bit_str):\n",
    "    \"\"\"\n",
    "    Pack a string of '0'/'1' into bytes, padding the last byte with '0's to align.\n",
    "    Returns tuple (bytes_obj, total_bits).\n",
    "    \"\"\"\n",
    "    total_bits = len(bit_str)\n",
    "    # pad to multiple of 8\n",
    "    padded = bit_str.ljust((total_bits + 7) // 8 * 8, '0')\n",
    "    data = bytearray()\n",
    "    for i in range(0, len(padded), 8):\n",
    "        byte = padded[i:i+8]\n",
    "        data.append(int(byte, 2))\n",
    "    return bytes(data), total_bits"
   ]
  },
  {
   "cell_type": "markdown",
   "id": "ca4efa55",
   "metadata": {},
   "source": [
    "# **Compression-pipeline**"
   ]
  },
  {
   "cell_type": "code",
   "execution_count": null,
   "id": "94fb873a",
   "metadata": {},
   "outputs": [],
   "source": [
    "def Compress(file_path, output_path = None , q = 4):\n",
    "    \n",
    "    \"\"\"\n",
    "    Complete compression pipeline:\n",
    "      1. Build frequency map and add paddings.\n",
    "      2. Build Huffman tree and assign codes.\n",
    "      3. Serialize header and write packed bitstream.\n",
    "    \"\"\"\n",
    "     # 1. Read and map frequencies\n",
    "    istream,freq_map = frequency_map(file_path)\n",
    "    freq_map         = add_paddings(freq_map, q)\n",
    "    \n",
    "    # 2. Build tree and codes\n",
    "    nodes      = nodes_queue(freq_map)\n",
    "    root       = Huffman_tree(nodes,q)\n",
    "    code_map   = assign_codes(root)\n",
    "    \n",
    "    # 3. Serialize header\n",
    "    # Convert symbol keys to str for JSON, bytes to ints\n",
    "    serial_map = {str(k): v for k, v in code_map.items()}\n",
    "    header = {\n",
    "        'code_map': serial_map,\n",
    "        'bit_length': sum(len(code_map[b]) for b in istream)\n",
    "    }\n",
    "    header_json = json.dumps(header).encode('utf-8')\n",
    "    header_len = len(header_json).to_bytes(4, byteorder='big')\n",
    "\n",
    "    # 4. Pack bitstream\n",
    "    bit_str = ''.join(code_map[b] for b in istream)\n",
    "    packed_bits, total_bits = pack_bits(bit_str)\n",
    "     \n",
    "    if output_path is None : \n",
    "        output_path = f'{file_path[:-4]}_compressed.txt'\n",
    "\n",
    "    # 5. Write to file\n",
    "    with open(output_path, 'wb') as out:\n",
    "        out.write(header_len)\n",
    "        out.write(header_json)\n",
    "        out.write(packed_bits)\n",
    "  \n",
    "\n",
    "    print(f\"Compressed '{file_path}' -> '{output_path}' ({total_bits} bits)\")\n",
    "    return output_path"
   ]
  },
  {
   "cell_type": "markdown",
   "id": "4e00e925",
   "metadata": {},
   "source": [
    "## Decompression-validation"
   ]
  },
  {
   "cell_type": "code",
   "execution_count": null,
   "id": "89a66e5a",
   "metadata": {},
   "outputs": [],
   "source": [
    "def decompress_file(file_path, output_path):\n",
    "    \"\"\"\n",
    "    Decompresses the Huffman-coded file and writes the original data to output_path.\n",
    "    Expects the file format written by compress_file (header + packed bits).\n",
    "    Returns the output_path on success.\n",
    "    \"\"\"\n",
    "    with open(file_path, 'rb') as f:\n",
    "        header_len_bytes = f.read(4)\n",
    "        if len(header_len_bytes) < 4:\n",
    "            raise ValueError(\"Invalid or corrupted compressed file.\")\n",
    "        header_len = int.from_bytes(header_len_bytes, byteorder='big')\n",
    "        header_json = f.read(header_len)\n",
    "        header = json.loads(header_json.decode('utf-8'))\n",
    "        code_map_str = header['code_map']\n",
    "        bit_length = header['bit_length']\n",
    "\n",
    "        # Build inverse map: code -> original symbol\n",
    "        inverse_map = {}\n",
    "        for k_str, v in code_map_str.items():\n",
    "            try:\n",
    "                key = int(k_str)\n",
    "            except:\n",
    "                key = k_str\n",
    "            inverse_map[v] = key\n",
    "\n",
    "        # Read and unpack the bitstream\n",
    "        bit_bytes = f.read()\n",
    "        bit_str = ''.join(f\"{byte:08b}\" for byte in bit_bytes)[:bit_length]\n",
    "\n",
    "        # Decode the bit string\n",
    "        decoded_bytes = bytearray()\n",
    "        current = \"\"\n",
    "        for bit in bit_str:\n",
    "            current += bit\n",
    "            if current in inverse_map:\n",
    "                sym = inverse_map[current]\n",
    "                if isinstance(sym, int):\n",
    "                    decoded_bytes.append(sym)\n",
    "                # Skip dummy symbols (if any)\n",
    "                current = \"\"\n",
    "\n",
    "        with open(output_path, 'wb') as out:\n",
    "            out.write(decoded_bytes)\n",
    "    return output_path"
   ]
  },
  {
   "cell_type": "markdown",
   "id": "5e092067",
   "metadata": {},
   "source": [
    "## References"
   ]
  },
  {
   "cell_type": "markdown",
   "id": "a9def356",
   "metadata": {},
   "source": [
    "1. [Stanford Huffman coding](https://web.stanford.edu/class/archive/cs/cs106b/cs106b.1186//assn/huffman.html)  \n",
    "2. [Wikipedia Huffman coding](https://en.wikipedia.org/wiki/Huffman_coding)"
   ]
  }
 ],
 "metadata": {
  "kernelspec": {
   "display_name": "Python 3 (ipykernel)",
   "language": "python",
   "name": "python3"
  },
  "language_info": {
   "codemirror_mode": {
    "name": "ipython",
    "version": 3
   },
   "file_extension": ".py",
   "mimetype": "text/x-python",
   "name": "python",
   "nbconvert_exporter": "python",
   "pygments_lexer": "ipython3",
   "version": "3.10.9"
  }
 },
 "nbformat": 4,
 "nbformat_minor": 5
}
